{
 "cells": [
  {
   "cell_type": "code",
   "execution_count": 1,
   "id": "3b8da6e3",
   "metadata": {},
   "outputs": [],
   "source": [
    "A = matrix([[25,34,18],[-14,-19,10],[-4,-6,-1]])\n"
   ]
  },
  {
   "cell_type": "code",
   "execution_count": 2,
   "id": "dfc7c26c",
   "metadata": {},
   "outputs": [
    {
     "data": {
      "text/html": [
       "<html>\\[\\newcommand{\\Bold}[1]{\\mathbf{#1}}\\left(\\begin{array}{rrr}\n",
       "25 & 34 & 18 \\\\\n",
       "-14 & -19 & 10 \\\\\n",
       "-4 & -6 & -1\n",
       "\\end{array}\\right)\\]</html>"
      ],
      "text/latex": [
       "$$\\newcommand{\\Bold}[1]{\\mathbf{#1}}\\left(\\begin{array}{rrr}\n",
       "25 & 34 & 18 \\\\\n",
       "-14 & -19 & 10 \\\\\n",
       "-4 & -6 & -1\n",
       "\\end{array}\\right)$$"
      ],
      "text/plain": [
       "[ 25  34  18]\n",
       "[-14 -19  10]\n",
       "[ -4  -6  -1]"
      ]
     },
     "metadata": {},
     "output_type": "display_data"
    }
   ],
   "source": [
    "pretty_print(A)"
   ]
  },
  {
   "cell_type": "code",
   "execution_count": 3,
   "id": "60721ccd",
   "metadata": {},
   "outputs": [
    {
     "data": {
      "text/plain": [
       "x^3 - 5*x^2 + 127*x - 283"
      ]
     },
     "execution_count": 3,
     "metadata": {},
     "output_type": "execute_result"
    }
   ],
   "source": [
    "A.charpoly()"
   ]
  },
  {
   "cell_type": "code",
   "execution_count": 4,
   "id": "d2ad1deb",
   "metadata": {},
   "outputs": [
    {
     "data": {
      "text/plain": [
       "[2.343208243287930?, 1.328395878356036? - 10.90916807301728?*I, 1.328395878356036? + 10.90916807301728?*I]"
      ]
     },
     "execution_count": 4,
     "metadata": {},
     "output_type": "execute_result"
    }
   ],
   "source": [
    "A.eigenvalues()"
   ]
  },
  {
   "cell_type": "code",
   "execution_count": 5,
   "id": "9ad8a424",
   "metadata": {},
   "outputs": [],
   "source": [
    "A = matrix([[25,34,18],[-14,-19,-10],[-4,-6,-1]])\n"
   ]
  },
  {
   "cell_type": "code",
   "execution_count": 6,
   "id": "d3d2b5db",
   "metadata": {},
   "outputs": [
    {
     "data": {
      "text/plain": [
       "x^3 - 5*x^2 + 7*x - 3"
      ]
     },
     "execution_count": 6,
     "metadata": {},
     "output_type": "execute_result"
    }
   ],
   "source": [
    "A.charpoly()"
   ]
  },
  {
   "cell_type": "code",
   "execution_count": 7,
   "id": "5a31678a",
   "metadata": {},
   "outputs": [
    {
     "data": {
      "text/plain": [
       "[3, 1, 1]"
      ]
     },
     "execution_count": 7,
     "metadata": {},
     "output_type": "execute_result"
    }
   ],
   "source": [
    "A.eigenvalues()"
   ]
  },
  {
   "cell_type": "code",
   "execution_count": 8,
   "id": "cef2144b",
   "metadata": {},
   "outputs": [],
   "source": [
    "I = identity_matrix(3)"
   ]
  },
  {
   "cell_type": "code",
   "execution_count": 11,
   "id": "2fea1008",
   "metadata": {},
   "outputs": [
    {
     "data": {
      "text/plain": [
       "[ 28  28  56]\n",
       "[-16 -16 -32]\n",
       "[ -4  -4  -8]"
      ]
     },
     "execution_count": 11,
     "metadata": {},
     "output_type": "execute_result"
    }
   ],
   "source": [
    "K = (A- I)^2 \n",
    "K"
   ]
  },
  {
   "cell_type": "code",
   "execution_count": 10,
   "id": "e69a1e7c",
   "metadata": {},
   "outputs": [
    {
     "data": {
      "text/plain": [
       "Free module of degree 3 and rank 2 over Integer Ring\n",
       "Echelon basis matrix:\n",
       "[ 1  1 -1]\n",
       "[ 0  2 -1]"
      ]
     },
     "execution_count": 10,
     "metadata": {},
     "output_type": "execute_result"
    }
   ],
   "source": [
    "kernel(K.transpose())"
   ]
  },
  {
   "cell_type": "code",
   "execution_count": 14,
   "id": "86239902",
   "metadata": {},
   "outputs": [],
   "source": [
    "v = vector([0,2,-1])"
   ]
  },
  {
   "cell_type": "code",
   "execution_count": 15,
   "id": "09d89f61",
   "metadata": {},
   "outputs": [
    {
     "data": {
      "text/plain": [
       "(0, 0, 0)"
      ]
     },
     "execution_count": 15,
     "metadata": {},
     "output_type": "execute_result"
    }
   ],
   "source": [
    "K*v"
   ]
  },
  {
   "cell_type": "code",
   "execution_count": null,
   "id": "68e6e4fd",
   "metadata": {},
   "outputs": [],
   "source": []
  }
 ],
 "metadata": {
  "kernelspec": {
   "display_name": "SageMath 9.5",
   "language": "sage",
   "name": "sagemath-9.5"
  },
  "language_info": {
   "codemirror_mode": {
    "name": "ipython",
    "version": 3
   },
   "file_extension": ".py",
   "mimetype": "text/x-python",
   "name": "python",
   "nbconvert_exporter": "python",
   "pygments_lexer": "ipython3",
   "version": "3.9.9"
  }
 },
 "nbformat": 4,
 "nbformat_minor": 5
}
