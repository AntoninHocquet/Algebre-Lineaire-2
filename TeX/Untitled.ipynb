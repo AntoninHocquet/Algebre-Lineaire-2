{
 "cells": [
  {
   "cell_type": "code",
   "execution_count": 1,
   "id": "a0e5aaea",
   "metadata": {},
   "outputs": [],
   "source": [
    "R, t = QQ['t'].objgen()\n",
    "\n",
    "f = 1 + t^3"
   ]
  },
  {
   "cell_type": "code",
   "execution_count": 2,
   "id": "f056f67e",
   "metadata": {},
   "outputs": [],
   "source": [
    "g = -1 + t"
   ]
  },
  {
   "cell_type": "code",
   "execution_count": 3,
   "id": "e0334d3f",
   "metadata": {},
   "outputs": [
    {
     "data": {
      "text/plain": [
       "2"
      ]
     },
     "execution_count": 3,
     "metadata": {},
     "output_type": "execute_result"
    }
   ],
   "source": [
    "f%g"
   ]
  },
  {
   "cell_type": "code",
   "execution_count": 4,
   "id": "df846cc2",
   "metadata": {},
   "outputs": [],
   "source": [
    "f = 2 + 3* t^3 + 4 *t^5"
   ]
  },
  {
   "cell_type": "code",
   "execution_count": 5,
   "id": "a6fb0770",
   "metadata": {},
   "outputs": [],
   "source": [
    "g = -1 + t^2\n"
   ]
  },
  {
   "cell_type": "code",
   "execution_count": 6,
   "id": "074fd3ee",
   "metadata": {},
   "outputs": [
    {
     "data": {
      "text/plain": [
       "4*t^3 + 7*t"
      ]
     },
     "execution_count": 6,
     "metadata": {},
     "output_type": "execute_result"
    }
   ],
   "source": [
    "f // g"
   ]
  },
  {
   "cell_type": "code",
   "execution_count": 7,
   "id": "6411caab",
   "metadata": {},
   "outputs": [
    {
     "data": {
      "text/plain": [
       "7*t + 2"
      ]
     },
     "execution_count": 7,
     "metadata": {},
     "output_type": "execute_result"
    }
   ],
   "source": [
    "f % g"
   ]
  },
  {
   "cell_type": "code",
   "execution_count": null,
   "id": "83fd7500",
   "metadata": {},
   "outputs": [],
   "source": []
  }
 ],
 "metadata": {
  "kernelspec": {
   "display_name": "SageMath 9.5",
   "language": "sage",
   "name": "sagemath-9.5"
  },
  "language_info": {
   "codemirror_mode": {
    "name": "ipython",
    "version": 3
   },
   "file_extension": ".py",
   "mimetype": "text/x-python",
   "name": "python",
   "nbconvert_exporter": "python",
   "pygments_lexer": "ipython3",
   "version": "3.9.9"
  }
 },
 "nbformat": 4,
 "nbformat_minor": 5
}
