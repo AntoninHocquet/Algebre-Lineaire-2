{
 "cells": [
  {
   "cell_type": "code",
   "execution_count": 1,
   "id": "9b7d1b63",
   "metadata": {},
   "outputs": [],
   "source": [
    "R, t = QQ['t'].objgen()\n",
    "\n",
    "f = 1 + t^3"
   ]
  },
  {
   "cell_type": "code",
   "execution_count": 2,
   "id": "3dee4f3b",
   "metadata": {},
   "outputs": [],
   "source": [
    "g = -1 + t"
   ]
  },
  {
   "cell_type": "code",
   "execution_count": 3,
   "id": "32d29bbf",
   "metadata": {},
   "outputs": [
    {
     "data": {
      "text/plain": [
       "2"
      ]
     },
     "execution_count": 3,
     "metadata": {},
     "output_type": "execute_result"
    }
   ],
   "source": [
    "f%g"
   ]
  },
  {
   "cell_type": "code",
   "execution_count": null,
   "id": "2025307f",
   "metadata": {},
   "outputs": [],
   "source": []
  }
 ],
 "metadata": {
  "kernelspec": {
   "display_name": "SageMath 9.5",
   "language": "sage",
   "name": "sagemath-9.5"
  },
  "language_info": {
   "codemirror_mode": {
    "name": "ipython",
    "version": 3
   },
   "file_extension": ".py",
   "mimetype": "text/x-python",
   "name": "python",
   "nbconvert_exporter": "python",
   "pygments_lexer": "ipython3",
   "version": "3.9.9"
  }
 },
 "nbformat": 4,
 "nbformat_minor": 5
}
